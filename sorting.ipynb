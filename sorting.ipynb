{
 "cells": [
  {
   "cell_type": "markdown",
   "metadata": {},
   "source": [
    "### Sorting Algorithms\n",
    "\n",
    "Following sorting algorithms are implemented in this notebook\n",
    "1. Insertion Sort\n",
    "2. Selection Sort\n",
    "3. Bucket Sort\n",
    "4. Quick Sort\n",
    "5. Merge Sort"
   ]
  },
  {
   "cell_type": "code",
   "execution_count": 47,
   "metadata": {},
   "outputs": [],
   "source": [
    "from typing import List\n",
    "import math"
   ]
  },
  {
   "cell_type": "markdown",
   "metadata": {},
   "source": [
    "#### Insertion Sort\n",
    "\n",
    "It is like sorting cards in you hands\n",
    "\n",
    "We divide array in two portions - sorted and unsorted\n",
    "\n",
    "In insertion sort, we take an element from unsorted portion and add it to the correct place in sorted portion\n",
    "\n",
    "To sort in ascending order,\n",
    "\n",
    "1. we start with 2nd element as 1st element is already in sorted position\n",
    "2. Compare the two elements, if 1st element < 2nd element, then we do not swap,\n",
    "3. If 1st element > 2nd element, we swap with the 1st element and repeatedly compare with the elements in sorted portion to find correct position\n",
    "\n",
    "##### Time complexity\n",
    "1. Best case - O(n) - List is already sorted as the inner loop do not need to swap elements\n",
    "2. worst case - O(n^2) - List is sorted in reverse order as we need to compare and swap the entire array"
   ]
  },
  {
   "cell_type": "code",
   "execution_count": 24,
   "metadata": {},
   "outputs": [],
   "source": [
    "# implement insertion sort here\n",
    "def insertion_sort(nums: List[int]) -> None:\n",
    "  for i in range(1, len(nums)):\n",
    "    key = nums[i]\n",
    "    j = i - 1\n",
    "    while j >= 0 and key < nums[j]:\n",
    "      # shift the element one position forward and at then end of loop place the ith element in correct position\n",
    "      nums[j + 1] = nums[j]\n",
    "      j -= 1\n",
    "    nums[j + 1] = key"
   ]
  },
  {
   "cell_type": "markdown",
   "metadata": {},
   "source": [
    "#### Selection Sort\n",
    "\n",
    "We divide array in two portions - sorted and unsorted\n",
    "\n",
    "We select the smallest portion from the unsorted portion and move it to sorted portion\n",
    "\n",
    "##### Time complexity\n",
    "\n",
    "O(n^2) for all cases as outer loop is ran n times and inner loop is ran n-1 + n-2 + n-2 + ... times always to find min/max element in unsorted portion"
   ]
  },
  {
   "cell_type": "code",
   "execution_count": 39,
   "metadata": {},
   "outputs": [],
   "source": [
    "# implement selection sort here\n",
    "def selection_sort(nums: List[int]):\n",
    "  for i in range(len(nums)):\n",
    "    min_idx = i\n",
    "    for j in range(i+1, len(nums)):\n",
    "      # finding smallest element from unsorted portion\n",
    "      if nums[min_idx] > nums[j]:\n",
    "        min_idx = j\n",
    "    # moving smallest element to sorted portion\n",
    "    nums[min_idx], nums[i] = nums[i], nums[min_idx]"
   ]
  },
  {
   "cell_type": "markdown",
   "metadata": {},
   "source": [
    "#### Bucket Sort\n",
    "\n",
    "It works well when the input array is uniformly distributed in range [0, 1)\n",
    "\n",
    "If range is (0, 100), then we can normalize the values by dividing with 100\n",
    "\n",
    "In bucket sort, we divide the values into buckets and then perform insertion sort over the buckets and then sequentially add them into final result\n",
    "\n",
    "We decide with a bucket size N,\n",
    "1. insert ith element into bucket number ith element * N\n",
    "2. Sort individual buckets with insertion sort\n",
    "3. Concatenate all the buckets\n",
    "\n",
    "##### Time Complexity\n",
    "1. If we assume, input is uniformly distributed then average case TC will be O(n)\n",
    "2. Worst case - O(n^2)\n",
    "\n",
    "#### Space Complexity\n",
    "O(n + k) -> n: num of items, k: num of buckets\n"
   ]
  },
  {
   "cell_type": "code",
   "execution_count": 52,
   "metadata": {},
   "outputs": [],
   "source": [
    "# implement bucket sort here\n",
    "# we assume the nums is between [0, 1]\n",
    "# we divide the input into 10 buckets\n",
    "def bucket_sort(nums: List[int]) -> List[int]:\n",
    "  k = 10  # number of buckets\n",
    "  buckets = [[] for _ in range(k)]\n",
    "  result = []\n",
    "  \n",
    "  # inserting items into respective buckets\n",
    "  for i in range(len(nums)):\n",
    "    buckets[math.floor(k * nums[i])].append(nums[i])\n",
    "  \n",
    "  # sorting individual bucket using insertion sort\n",
    "  for bucket in buckets:\n",
    "    insertion_sort(bucket)  # can use bucket.sort() directly to sort in place\n",
    "    result.extend(bucket)\n",
    "  return result\n"
   ]
  },
  {
   "cell_type": "markdown",
   "metadata": {},
   "source": [
    "#### Quick Sort\n",
    "\n",
    "Idea behind quick sort is to\n",
    "1. select a pivot\n",
    "2. place the pivot at correct position in the array\n",
    "3. all smaller elements should be before pivot and larger elements should be after the pivot\n",
    "4. We then recursively sort left of pivot and right of pivot\n",
    "\n",
    "We can select the pivot\n",
    "1. last element\n",
    "2. first element\n",
    "3. random element\n",
    "4. middle element\n",
    "\n",
    "\n",
    "Partitioning Algo\n",
    "1. Lets consider pivot as middle element as pivot\n",
    "2. we maintain 2 pointers, left to track elements greater than pivot and right to track element less than pivot\n",
    "3. we increment left till we get element < pivot\n",
    "4. we decrement right till we get element > pivot\n",
    "5. if left <= right then left is the partitioning position i.e. correct position of pivot. swap element at right with pivot\n",
    "\n",
    "##### Time complexity\n",
    "1. Best Case - O(nlogn) - partitioning happens in the middle of list\n",
    "2. Worst case - O(n^2) partitioning happens at start or at end of list\n",
    "\n",
    "##### Space complexity\n",
    "1. Best case - O(logn)\n",
    "2. Worst case - O(n)"
   ]
  },
  {
   "cell_type": "code",
   "execution_count": 83,
   "metadata": {},
   "outputs": [],
   "source": [
    "# implement quick sort here\n",
    "def partition(nums, left, right):\n",
    "  pivot = nums[left + (right - left) // 2]\n",
    "\n",
    "  while left <= right:\n",
    "    while nums[left] < pivot:\n",
    "      left += 1\n",
    "    while nums[right] > pivot:\n",
    "      right -= 1\n",
    "    if left <= right:\n",
    "      nums[left], nums[right] = nums[right], nums[left]\n",
    "      left += 1\n",
    "      right -= 1\n",
    "  return left\n",
    "\n",
    "def quick_sort(nums, left, right):\n",
    "  if left < right:\n",
    "    pivot = partition(nums, left, right)\n",
    "    quick_sort(nums, left, pivot - 1)\n",
    "    quick_sort(nums, pivot, right)"
   ]
  },
  {
   "cell_type": "markdown",
   "metadata": {},
   "source": [
    "#### Merge Sort\n",
    "\n",
    "Recursively divide the array in two parts, sort the individual parts and then merge them together\n",
    "\n",
    "##### Time Complexity\n",
    "1. O(nlogn) for all cases\n",
    "\n",
    "##### Space Complexity\n",
    "1. O(n) as we need an auxillary array"
   ]
  },
  {
   "cell_type": "code",
   "execution_count": 88,
   "metadata": {},
   "outputs": [],
   "source": [
    "# implement merge sort here\n",
    "\n",
    "def merge_sort(nums):\n",
    "  if len(nums) > 1:\n",
    "    mid = len(nums) // 2\n",
    "    L = nums[:mid]\n",
    "    R = nums[mid:]\n",
    "\n",
    "    merge_sort(L)\n",
    "    merge_sort(R)\n",
    "\n",
    "    # merging two sorted halves\n",
    "    i, j, k = 0, 0, 0\n",
    "    while i < len(L) and j < len(R):\n",
    "      if L[i] <= R[j]:\n",
    "        nums[k] = L[i]\n",
    "        i += 1\n",
    "      else:\n",
    "        nums[k] = R[j]\n",
    "        j += 1\n",
    "      k += 1\n",
    "    \n",
    "    while i < len(L):\n",
    "      nums[k] = L[i]\n",
    "      i += 1\n",
    "      k += 1\n",
    "\n",
    "    while j < len(R):\n",
    "      nums[k] = R[j]\n",
    "      j += 1\n",
    "      k += 1"
   ]
  },
  {
   "cell_type": "code",
   "execution_count": 26,
   "metadata": {},
   "outputs": [],
   "source": [
    "def intialize_and_execute_sort(f):\n",
    "  a_empty = []\n",
    "  print(a_empty, end=\"  -------------  \"); f(a_empty); print(a_empty)\n",
    "\n",
    "  a_single = [4]\n",
    "  print(a_single, end=\"  ------------- \"); f(a_single); print(a_single)\n",
    "\n",
    "  a_sorted = [1, 2, 3, 4, 5, 6, 7]\n",
    "  print(a_sorted, end=\"  -------------  \"); f(a_sorted); print(a_sorted)\n",
    "\n",
    "  a_reverse_sorted = [6, 5, 4, 3, 2, 1]\n",
    "  print(a_reverse_sorted, end=\"  -------------  \"); f(a_reverse_sorted); print(a_reverse_sorted)\n",
    "\n",
    "  a_random_1 = [3, 1, 4, 5, 2]\n",
    "  print(a_random_1, end=\"  -------------  \"); f(a_random_1); print(a_random_1)\n",
    "\n",
    "  a_random_2 = [72, 13, 15, 3, 67]\n",
    "  print(a_random_2, end=\"  -------------  \"); f(a_random_2); print(a_random_2)\n",
    "\n",
    "  a_random_3 = [12, 11, 13, 5, 6]\n",
    "  print(a_random_3, end=\"  -------------  \"); f(a_random_3); print(a_random_3)\n",
    "\n",
    "  a_duplicate_1 = [4, 3, 3, 4, 5, 3]\n",
    "  print(a_duplicate_1, end=\"  -------------  \"); f(a_duplicate_1); print(a_duplicate_1)\n",
    "\n",
    "  a_duplicate_2 = [10, 10, 20, 20, 30, 10, 30]\n",
    "  print(a_duplicate_2, end=\"  -------------  \"); f(a_duplicate_2); print(a_duplicate_2)\n",
    "\n",
    "  a_negative_1 = [-3, -1, -4, -2]\n",
    "  print(a_negative_1, end=\"  -------------  \"); f(a_negative_1); print(a_negative_1)\n",
    "\n",
    "  a_negative_2 = [-2, 3, -1, 5, 4]\n",
    "  print(a_negative_2, end=\"  -------------  \"); f(a_negative_2); print(a_negative_2)\n",
    "\n",
    "  a_identity = [3, 3, 3, 3, 3]\n",
    "  print(a_identity, end=\"  -------------  \"); f(a_identity); print(a_identity)"
   ]
  },
  {
   "cell_type": "code",
   "execution_count": 27,
   "metadata": {},
   "outputs": [
    {
     "name": "stdout",
     "output_type": "stream",
     "text": [
      "[]  -------------  []\n",
      "[4]  ------------- [4]\n",
      "[1, 2, 3, 4, 5, 6, 7]  -------------  [1, 2, 3, 4, 5, 6, 7]\n",
      "[6, 5, 4, 3, 2, 1]  -------------  [1, 2, 3, 4, 5, 6]\n",
      "[3, 1, 4, 5, 2]  -------------  [1, 2, 3, 4, 5]\n",
      "[72, 13, 15, 3, 67]  -------------  [3, 13, 15, 67, 72]\n",
      "[12, 11, 13, 5, 6]  -------------  [5, 6, 11, 12, 13]\n",
      "[4, 3, 3, 4, 5, 3]  -------------  [3, 3, 3, 4, 4, 5]\n",
      "[10, 10, 20, 20, 30, 10, 30]  -------------  [10, 10, 10, 20, 20, 30, 30]\n",
      "[-3, -1, -4, -2]  -------------  [-4, -3, -2, -1]\n",
      "[-2, 3, -1, 5, 4]  -------------  [-2, -1, 3, 4, 5]\n",
      "[3, 3, 3, 3, 3]  -------------  [3, 3, 3, 3, 3]\n"
     ]
    }
   ],
   "source": [
    "intialize_and_execute_sort(insertion_sort)"
   ]
  },
  {
   "cell_type": "code",
   "execution_count": 40,
   "metadata": {},
   "outputs": [
    {
     "name": "stdout",
     "output_type": "stream",
     "text": [
      "[]  -------------  []\n",
      "[4]  ------------- [4]\n",
      "[1, 2, 3, 4, 5, 6, 7]  -------------  [1, 2, 3, 4, 5, 6, 7]\n",
      "[6, 5, 4, 3, 2, 1]  -------------  [1, 2, 3, 4, 5, 6]\n",
      "[3, 1, 4, 5, 2]  -------------  [1, 2, 3, 4, 5]\n",
      "[72, 13, 15, 3, 67]  -------------  [3, 13, 15, 67, 72]\n",
      "[12, 11, 13, 5, 6]  -------------  [5, 6, 11, 12, 13]\n",
      "[4, 3, 3, 4, 5, 3]  -------------  [3, 3, 3, 4, 4, 5]\n",
      "[10, 10, 20, 20, 30, 10, 30]  -------------  [10, 10, 10, 20, 20, 30, 30]\n",
      "[-3, -1, -4, -2]  -------------  [-4, -3, -2, -1]\n",
      "[-2, 3, -1, 5, 4]  -------------  [-2, -1, 3, 4, 5]\n",
      "[3, 3, 3, 3, 3]  -------------  [3, 3, 3, 3, 3]\n"
     ]
    }
   ],
   "source": [
    "intialize_and_execute_sort(selection_sort)"
   ]
  },
  {
   "cell_type": "code",
   "execution_count": 79,
   "metadata": {},
   "outputs": [
    {
     "name": "stdout",
     "output_type": "stream",
     "text": [
      "[0.12, 0.42, 0.35, 0.87, 0.63, 0.71, 0.29]  -------------  [0.12, 0.29, 0.35, 0.42, 0.63, 0.71, 0.87]\n",
      "[0.12, 0.15, 0.18, 0.22, 0.25, 0.28, 0.32]  -------------  [0.12, 0.15, 0.18, 0.22, 0.25, 0.28, 0.32]\n",
      "[0.92, 0.88, 0.82, 0.78, 0.72, 0.68, 0.62]  -------------  [0.62, 0.68, 0.72, 0.78, 0.82, 0.88, 0.92]\n",
      "[0.12, 0.15, 0.18, 0.13, 0.16, 0.14, 0.17]  -------------  [0.12, 0.13, 0.14, 0.15, 0.16, 0.17, 0.18]\n",
      "[0.52, 0.52, 0.52, 0.52, 0.52]  -------------  [0.52, 0.52, 0.52, 0.52, 0.52]\n",
      "[0.01, 0.99, 0.02, 0.98, 0.03, 0.97]  -------------  [0.01, 0.02, 0.03, 0.97, 0.98, 0.99]\n",
      "[0.11, 0.12, 0.13, 0.14, 0.15]  -------------  [0.11, 0.12, 0.13, 0.14, 0.15]\n",
      "[0.45]  -------------  [0.45]\n",
      "[]  -------------  []\n"
     ]
    }
   ],
   "source": [
    "# executing bucket sort\n",
    "\n",
    "nums1 = [0.12, 0.42, 0.35, 0.87, 0.63, 0.71, 0.29]\n",
    "print(f'{nums1}  -------------  {bucket_sort(nums1)}')\n",
    "\n",
    "nums2 = [0.12, 0.15, 0.18, 0.22, 0.25, 0.28, 0.32]\n",
    "print(f'{nums2}  -------------  {bucket_sort(nums2)}')\n",
    "\n",
    "nums3 = [0.92, 0.88, 0.82, 0.78, 0.72, 0.68, 0.62]\n",
    "print(f'{nums3}  -------------  {bucket_sort(nums3)}')\n",
    "\n",
    "nums4 = [0.12, 0.15, 0.18, 0.13, 0.16, 0.14, 0.17]\n",
    "print(f'{nums4}  -------------  {bucket_sort(nums4)}')\n",
    "\n",
    "nums5 = [0.52, 0.52, 0.52, 0.52, 0.52]\n",
    "print(f'{nums5}  -------------  {bucket_sort(nums5)}')\n",
    "\n",
    "nums6 = [0.01, 0.99, 0.02, 0.98, 0.03, 0.97]\n",
    "print(f'{nums6}  -------------  {bucket_sort(nums6)}')\n",
    "\n",
    "nums7 = [0.11, 0.12, 0.13, 0.14, 0.15]\n",
    "print(f'{nums7}  -------------  {bucket_sort(nums7)}')\n",
    "\n",
    "nums8 = [0.45]\n",
    "print(f'{nums8}  -------------  {bucket_sort(nums8)}')\n",
    "\n",
    "nums9 = []\n",
    "print(f'{nums9}  -------------  {bucket_sort(nums9)}')"
   ]
  },
  {
   "cell_type": "code",
   "execution_count": 84,
   "metadata": {},
   "outputs": [
    {
     "name": "stdout",
     "output_type": "stream",
     "text": [
      "[3, 8, 2, 5, 1, 4, 7, 6]  -------------  [1, 2, 3, 4, 5, 6, 7, 8]\n",
      "[9, 7, 5, 11, 12, 2, 14, 3, 10, 6]  -------------  [2, 3, 5, 6, 7, 9, 10, 11, 12, 14]\n",
      "[1, 2, 3, 4, 5, 6, 7, 8, 9, 10]  -------------  [1, 2, 3, 4, 5, 6, 7, 8, 9, 10]\n",
      "[10, 9, 8, 7, 6, 5, 4, 3, 2, 1]  -------------  [1, 2, 3, 4, 5, 6, 7, 8, 9, 10]\n",
      "[4, 1, 3, 4, 4, 2, 7, 8, 4]  -------------  [1, 2, 3, 4, 4, 4, 4, 7, 8]\n",
      "[10, 9, 10, 10, 6, 5, 4, 10, 2, 1]  -------------  [1, 2, 4, 5, 6, 9, 10, 10, 10, 10]\n",
      "[5]  -------------  [5]\n",
      "[]  -------------  []\n",
      "[-5, -3, -1, -4, -2]  -------------  [-5, -4, -3, -2, -1]\n",
      "[7, 7, 7, 7, 7, 7, 7]  -------------  [7, 7, 7, 7, 7, 7, 7]\n"
     ]
    }
   ],
   "source": [
    "# executing quick sort\n",
    "\n",
    "nums1 = [3, 8, 2, 5, 1, 4, 7, 6]\n",
    "print(nums1, end=\"  -------------  \"); quick_sort(nums1, 0, len(nums1) - 1); print(nums1)\n",
    "\n",
    "nums2 = [9, 7, 5, 11, 12, 2, 14, 3, 10, 6]\n",
    "print(nums2, end=\"  -------------  \"); quick_sort(nums2, 0, len(nums2) - 1); print(nums2)\n",
    "\n",
    "nums3 = [1, 2, 3, 4, 5, 6, 7, 8, 9, 10]\n",
    "print(nums3, end=\"  -------------  \"); quick_sort(nums3, 0, len(nums3) - 1); print(nums3)\n",
    "\n",
    "nums4 = [10, 9, 8, 7, 6, 5, 4, 3, 2, 1]\n",
    "print(nums4, end=\"  -------------  \"); quick_sort(nums4, 0, len(nums4) - 1); print(nums4)\n",
    "\n",
    "nums5 = [4, 1, 3, 4, 4, 2, 7, 8, 4]\n",
    "print(nums5, end=\"  -------------  \"); quick_sort(nums5, 0, len(nums5) - 1); print(nums5)\n",
    "\n",
    "nums6 = [10, 9, 10, 10, 6, 5, 4, 10, 2, 1]\n",
    "print(nums6, end=\"  -------------  \"); quick_sort(nums6, 0, len(nums6) - 1); print(nums6)\n",
    "\n",
    "nums7 = [5]\n",
    "print(nums7, end=\"  -------------  \"); quick_sort(nums7, 0, len(nums7) - 1); print(nums7)\n",
    "\n",
    "nums8 = []\n",
    "print(nums8, end=\"  -------------  \"); quick_sort(nums8, 0, len(nums8) - 1); print(nums8)\n",
    "\n",
    "nums9 = [-5, -3, -1, -4, -2]\n",
    "print(nums9, end=\"  -------------  \"); quick_sort(nums9, 0, len(nums9) - 1); print(nums9)\n",
    "\n",
    "nums10 = [7, 7, 7, 7, 7, 7, 7]\n",
    "print(nums10, end=\"  -------------  \"); quick_sort(nums10, 0, len(nums10) - 1); print(nums10)\n"
   ]
  },
  {
   "cell_type": "code",
   "execution_count": 89,
   "metadata": {},
   "outputs": [
    {
     "name": "stdout",
     "output_type": "stream",
     "text": [
      "[3, 8, 2, 5, 1, 4, 7, 6]  -------------  [1, 2, 3, 4, 5, 6, 7, 8]\n",
      "[9, 7, 5, 11, 12, 2, 14, 3, 10, 6]  -------------  [2, 3, 5, 6, 7, 9, 10, 11, 12, 14]\n",
      "[1, 2, 3, 4, 5, 6, 7, 8, 9, 10]  -------------  [1, 2, 3, 4, 5, 6, 7, 8, 9, 10]\n",
      "[10, 9, 8, 7, 6, 5, 4, 3, 2, 1]  -------------  [1, 2, 3, 4, 5, 6, 7, 8, 9, 10]\n",
      "[4, 1, 3, 4, 4, 2, 7, 8, 4]  -------------  [1, 2, 3, 4, 4, 4, 4, 7, 8]\n",
      "[10, 9, 10, 10, 6, 5, 4, 10, 2, 1]  -------------  [1, 2, 4, 5, 6, 9, 10, 10, 10, 10]\n",
      "[5]  -------------  [5]\n",
      "[]  -------------  []\n",
      "[-5, -3, -1, -4, -2]  -------------  [-5, -4, -3, -2, -1]\n",
      "[7, 7, 7, 7, 7, 7, 7]  -------------  [7, 7, 7, 7, 7, 7, 7]\n"
     ]
    }
   ],
   "source": [
    "# executing merge sort\n",
    "\n",
    "nums1 = [3, 8, 2, 5, 1, 4, 7, 6]\n",
    "print(nums1, end=\"  -------------  \"); merge_sort(nums1); print(nums1)\n",
    "\n",
    "nums2 = [9, 7, 5, 11, 12, 2, 14, 3, 10, 6]\n",
    "print(nums2, end=\"  -------------  \"); merge_sort(nums2); print(nums2)\n",
    "\n",
    "nums3 = [1, 2, 3, 4, 5, 6, 7, 8, 9, 10]\n",
    "print(nums3, end=\"  -------------  \"); merge_sort(nums3); print(nums3)\n",
    "\n",
    "nums4 = [10, 9, 8, 7, 6, 5, 4, 3, 2, 1]\n",
    "print(nums4, end=\"  -------------  \"); merge_sort(nums4); print(nums4)\n",
    "\n",
    "nums5 = [4, 1, 3, 4, 4, 2, 7, 8, 4]\n",
    "print(nums5, end=\"  -------------  \"); merge_sort(nums5); print(nums5)\n",
    "\n",
    "nums6 = [10, 9, 10, 10, 6, 5, 4, 10, 2, 1]\n",
    "print(nums6, end=\"  -------------  \"); merge_sort(nums6); print(nums6)\n",
    "\n",
    "nums7 = [5]\n",
    "print(nums7, end=\"  -------------  \"); merge_sort(nums7); print(nums7)\n",
    "\n",
    "nums8 = []\n",
    "print(nums8, end=\"  -------------  \"); merge_sort(nums8); print(nums8)\n",
    "\n",
    "nums9 = [-5, -3, -1, -4, -2]\n",
    "print(nums9, end=\"  -------------  \"); merge_sort(nums9); print(nums9)\n",
    "\n",
    "nums10 = [7, 7, 7, 7, 7, 7, 7]\n",
    "print(nums10, end=\"  -------------  \"); merge_sort(nums10); print(nums10)\n"
   ]
  },
  {
   "cell_type": "markdown",
   "metadata": {},
   "source": [
    "### Problems to practice for sorting\n",
    "\n",
    "1. [Top K frequent elements](https://leetcode.com/problems/top-k-frequent-elements/)\n",
    "2. [Sort Colors](https://leetcode.com/problems/sort-colors/)"
   ]
  }
 ],
 "metadata": {
  "kernelspec": {
   "display_name": "venv",
   "language": "python",
   "name": "python3"
  },
  "language_info": {
   "codemirror_mode": {
    "name": "ipython",
    "version": 3
   },
   "file_extension": ".py",
   "mimetype": "text/x-python",
   "name": "python",
   "nbconvert_exporter": "python",
   "pygments_lexer": "ipython3",
   "version": "3.10.0"
  },
  "orig_nbformat": 4
 },
 "nbformat": 4,
 "nbformat_minor": 2
}
