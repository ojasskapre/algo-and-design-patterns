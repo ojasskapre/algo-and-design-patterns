{
 "cells": [
  {
   "cell_type": "markdown",
   "metadata": {},
   "source": [
    "### Topological sorting\n",
    "\n",
    "Topological sorting take directed graph as input and returns array of nodes where each node is visited before the node it points to\n",
    "\n",
    "Cyclic graphs don't have valid topological ordering\n",
    "\n",
    "Many real world situations can be modelled as directed graph where certain events occur before another.\n",
    "- Program build dependencies\n",
    "- Course pre-requisites\n",
    "- Event scheduling, ..."
   ]
  },
  {
   "cell_type": "markdown",
   "metadata": {},
   "source": [
    "#### Kahn's algorithm \n",
    "is the simple topological sorting algorithm with TC -> O(V + E)\n",
    "\n",
    "Kahn's algorithm intution is that we should repeatedly remove the nodes with no dependencies. \n",
    "\n",
    "As we remove the nodes with no dependencies, more nodes with no dependencies are found.\n",
    "\n",
    "Repeat the process till there are no nodes present or a cycle is found\n",
    "\n",
    "1. Begin counting the indegree of each node\n",
    "2. Maintain a queue to process all the nodes with 0 indegree\n",
    "3. Deque from the queue and add the node to topological ordering\n",
    "4. Now remove that node from graph and update the indegree of all the affected nodes\n",
    "5. Go to step 2"
   ]
  },
  {
   "cell_type": "markdown",
   "metadata": {},
   "source": [
    "#### Topological sort using recursion\n",
    "\n",
    "It is similar to DFS. In DFS,\n",
    "\n",
    "we first start with a vertex, add it to result list and then recursively call DFS on adjacent vertices\n",
    "\n",
    "Here we first start with a vertex, recursively call topological sort on adjacent vertices and then add it to result list\n",
    "\n",
    "The topological ordering is the reverse of the result list\n",
    "\n",
    "We need to also maintain an additional list to check for cycles\n",
    "\n",
    "#### Why this approach works?\n",
    "\n",
    "In topological sort, a vertex should appear before its dependent. So we first traverse the dependents and then visit that vertex. \n",
    "\n",
    "The order will be reverse of the result list because the vertex with no dependency will be added first"
   ]
  },
  {
   "cell_type": "code",
   "execution_count": 18,
   "metadata": {},
   "outputs": [],
   "source": [
    "from collections import defaultdict\n",
    "from typing import List\n",
    "import random"
   ]
  },
  {
   "cell_type": "code",
   "execution_count": 19,
   "metadata": {},
   "outputs": [],
   "source": [
    "class Graph:\n",
    "  \n",
    "  def __init__(self, V: int):\n",
    "    self.neighbors = defaultdict(list)\n",
    "    self.V = V\n",
    "  \n",
    "  def add_edge(self, u, v):\n",
    "    self.neighbors[u].append(v)"
   ]
  },
  {
   "cell_type": "code",
   "execution_count": 20,
   "metadata": {},
   "outputs": [],
   "source": [
    "g_basic = Graph(6)\n",
    "g_basic.add_edge(5, 2)\n",
    "g_basic.add_edge(5, 0)\n",
    "g_basic.add_edge(4, 0)\n",
    "g_basic.add_edge(4, 1)\n",
    "g_basic.add_edge(2, 3)\n",
    "g_basic.add_edge(3, 1)\n",
    "\n",
    "g_cyclic = Graph(3)\n",
    "g_cyclic.add_edge(0, 1)\n",
    "g_cyclic.add_edge(1, 2)\n",
    "g_cyclic.add_edge(2, 0)\n",
    "\n",
    "g_disconnected = Graph(4)\n",
    "g_disconnected.add_edge(0, 1)\n",
    "g_disconnected.add_edge(2, 3)\n",
    "\n",
    "g_single = Graph(1)\n",
    "\n",
    "g_no_edge = Graph(3)\n",
    "\n",
    "n = 13\n",
    "g_random = Graph(n)\n",
    "for i in range(n - 1):\n",
    "    g_random.add_edge(i, i + 1)\n"
   ]
  },
  {
   "cell_type": "code",
   "execution_count": 29,
   "metadata": {},
   "outputs": [],
   "source": [
    "class Solution:\n",
    "\n",
    "  def __init__(self):\n",
    "    self.has_cycle = False\n",
    "\n",
    "  def topological_sort(self, graph: Graph) -> List[int] or None:\n",
    "    result = []\n",
    "    indegree = [0] * graph.V\n",
    "\n",
    "    # calculating indegree of each node\n",
    "    # TC O(V + E)\n",
    "    for u in graph.neighbors:\n",
    "      for v in graph.neighbors[u]:\n",
    "        indegree[v] += 1\n",
    "\n",
    "    # adding all nodes with 0 indegree to queue\n",
    "    queue = []\n",
    "    for i, v in enumerate(indegree):\n",
    "      if v == 0:\n",
    "        queue.append(i)\n",
    "    \n",
    "    count = 0  # to check if all vertices are visited\n",
    "    \n",
    "    while queue:\n",
    "      # dequeue from queue and to the topological ordering\n",
    "      current_node = queue.pop(-1)\n",
    "      result.append(current_node)\n",
    "\n",
    "      count += 1\n",
    "      \n",
    "      # update the indegree of all affected nodes\n",
    "      # if indegree becomes 0 then add it to queue\n",
    "      for neighbor in graph.neighbors[current_node]:\n",
    "        indegree[neighbor] -= 1\n",
    "        if indegree[neighbor] == 0:\n",
    "          queue.append(neighbor)\n",
    "    \n",
    "    return result if count == graph.V else None\n",
    "  \n",
    "  def topological_sort_util(self, node: int, graph: Graph, result: list, visited: list, on_stack: list) -> None:\n",
    "    if self.has_cycle:\n",
    "      return\n",
    "    \n",
    "    visited.append(node)\n",
    "    on_stack.append(node)\n",
    "\n",
    "    for neighbor in graph.neighbors[node]:\n",
    "      if neighbor in on_stack:\n",
    "        self.has_cycle = True\n",
    "        return\n",
    "\n",
    "      if neighbor not in visited:\n",
    "        self.topological_sort_util(neighbor, graph, result, visited, on_stack)\n",
    "    \n",
    "    on_stack.remove(node)\n",
    "    result.append(node)\n",
    "\n",
    "  def start_topological_sort(self, graph: Graph) -> List[int] or None:\n",
    "    result = []\n",
    "    visited = []\n",
    "    on_stack = []\n",
    "\n",
    "    for u in range(graph.V):\n",
    "      if u not in visited:\n",
    "        self.topological_sort_util(u, graph, result, visited, on_stack)\n",
    "    \n",
    "    return None if self.has_cycle else result[::-1]\n"
   ]
  },
  {
   "cell_type": "code",
   "execution_count": 30,
   "metadata": {},
   "outputs": [
    {
     "name": "stdout",
     "output_type": "stream",
     "text": [
      "Using Kahns algorithm\n",
      "Basic graph: [5, 2, 3, 4, 1, 0]\n",
      "Cyclic graph: None\n",
      "Disconncted graph: [2, 3, 0, 1]\n",
      "Single Node graph: [0]\n",
      "Multi Node but no edge graph: [2, 1, 0]\n",
      "Random graph: [0, 1, 2, 3, 4, 5, 6, 7, 8, 9, 10, 11, 12]\n",
      "==================================================\n",
      "Using recursion\n",
      "Basic graph: [5, 4, 2, 3, 1, 0]\n",
      "Cyclic graph: None\n",
      "Disconncted graph: [2, 3, 0, 1]\n",
      "Single Node graph: [0]\n",
      "Multi Node but no edge graph: [2, 1, 0]\n",
      "Random graph: [0, 1, 2, 3, 4, 5, 6, 7, 8, 9, 10, 11, 12]\n"
     ]
    }
   ],
   "source": [
    "print('Using Kahns algorithm')\n",
    "print(f'Basic graph: {Solution().topological_sort(g_basic)}')\n",
    "print(f'Cyclic graph: {Solution().topological_sort(g_cyclic)}')\n",
    "print(f'Disconncted graph: {Solution().topological_sort(g_disconnected)}')\n",
    "print(f'Single Node graph: {Solution().topological_sort(g_single)}')\n",
    "print(f'Multi Node but no edge graph: {Solution().topological_sort(g_no_edge)}')\n",
    "print(f'Random graph: {Solution().topological_sort(g_random)}')\n",
    "print('=' * 50)\n",
    "print('Using recursion')\n",
    "print(f'Basic graph: {Solution().start_topological_sort(g_basic)}')\n",
    "print(f'Cyclic graph: {Solution().start_topological_sort(g_cyclic)}')\n",
    "print(f'Disconncted graph: {Solution().start_topological_sort(g_disconnected)}')\n",
    "print(f'Single Node graph: {Solution().start_topological_sort(g_single)}')\n",
    "print(f'Multi Node but no edge graph: {Solution().start_topological_sort(g_no_edge)}')\n",
    "print(f'Random graph: {Solution().start_topological_sort(g_random)}')"
   ]
  },
  {
   "cell_type": "markdown",
   "metadata": {},
   "source": [
    "#### Problems solved using topological sorting\n",
    "\n",
    "1. Alien Dictionary\n",
    "2. Course Scheduling II"
   ]
  }
 ],
 "metadata": {
  "kernelspec": {
   "display_name": "venv",
   "language": "python",
   "name": "python3"
  },
  "language_info": {
   "codemirror_mode": {
    "name": "ipython",
    "version": 3
   },
   "file_extension": ".py",
   "mimetype": "text/x-python",
   "name": "python",
   "nbconvert_exporter": "python",
   "pygments_lexer": "ipython3",
   "version": "3.10.0"
  },
  "orig_nbformat": 4
 },
 "nbformat": 4,
 "nbformat_minor": 2
}
